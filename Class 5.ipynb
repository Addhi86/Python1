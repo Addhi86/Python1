{
 "cells": [
  {
   "cell_type": "code",
   "execution_count": 5,
   "metadata": {},
   "outputs": [
    {
     "name": "stdout",
     "output_type": "stream",
     "text": [
      "Enter the cash you want to deposite \n",
      "0\n",
      "You have added ZERO cash, please try again..\n",
      "Enter the cash you want to deposite \n",
      "12\n",
      "You have entered 12 Rupees in the ATM machine.\n"
     ]
    }
   ],
   "source": [
    "#cast check through while\n",
    "\n",
    "while True:\n",
    "    cash= int (input (\"Enter the cash you want to deposite \\n\"))\n",
    "    if cash == 0:\n",
    "        print ('You have added ZERO cash, please try again..')\n",
    "    else:\n",
    "        print(\"\\n You have entered \" + str(cash) + \" Rupees in the ATM machine.\")\n",
    "        break\n",
    "\n"
   ]
  },
  {
   "cell_type": "code",
   "execution_count": 12,
   "metadata": {},
   "outputs": [
    {
     "name": "stdout",
     "output_type": "stream",
     "text": [
      "Enter the name of the students in class...\n",
      " TYPE Finish to exit..a\n",
      "Enter the name of the students in class...\n",
      " TYPE Finish to exit..b\n",
      "Enter the name of the students in class...\n",
      " TYPE Finish to exit..finish\n",
      "A\n",
      "B\n"
     ]
    }
   ],
   "source": [
    "student_list=[]\n",
    "while True:\n",
    "    stud_name = input (\"Enter the name of the students in class...\\n TYPE Finish to exit..\")\n",
    "    if stud_name.upper() == 'FINISH':\n",
    "        break\n",
    "    else:\n",
    "        student_list.append(stud_name.title())\n",
    "\n",
    "for i in student_list:\n",
    "    print (i)"
   ]
  },
  {
   "cell_type": "code",
   "execution_count": 1,
   "metadata": {},
   "outputs": [
    {
     "name": "stdout",
     "output_type": "stream",
     "text": [
      "['Namaz', 'Work', 'Office', 'Lunch', 'Gym']\n"
     ]
    }
   ],
   "source": [
    "daily_task=[\"Namaz\", \"Work\", \"Office\", \"Lunch\", \"Gym\"]\n",
    "\n",
    "print (daily_task)"
   ]
  },
  {
   "cell_type": "code",
   "execution_count": 2,
   "metadata": {},
   "outputs": [
    {
     "name": "stdout",
     "output_type": "stream",
     "text": [
      "How much task you want to add 4\n",
      "Enter the Task you want to add Work\n",
      "['Work']\n",
      "Enter the Task you want to add Gyn\n",
      "Entered task is not in the list\n",
      "Enter the Task you want to add Gym\n",
      "['Work', 'Gym']\n",
      "Enter the Task you want to add Lunch\n",
      "['Work', 'Gym', 'Lunch']\n"
     ]
    }
   ],
   "source": [
    "new_task=[]\n",
    "num=int(input(\"How much task you want to add \"))\n",
    "\n",
    "for task in range(num):\n",
    "    check_task=input(\"Enter the Task you want to add \").title()\n",
    "    if check_task in daily_task:\n",
    "        ind=daily_task.index(check_task)\n",
    "        task_pop= daily_task.pop(ind)\n",
    "        new_task.append(task_pop)\n",
    "        print(new_task)\n",
    "    else:\n",
    "        print(\"Entered task is not in the list\")\n",
    "        exit()\n",
    "#for i in new_task:\n",
    " #   print (i)\n",
    "        "
   ]
  },
  {
   "cell_type": "code",
   "execution_count": 1,
   "metadata": {},
   "outputs": [
    {
     "name": "stdout",
     "output_type": "stream",
     "text": [
      "Enter the city to check Sydney\n",
      "This polluted city.\n",
      "Enter the city to check Lahore\n",
      "Lahore is clean city\n",
      "Enter the city to check quit\n",
      "This polluted city.\n"
     ]
    }
   ],
   "source": [
    "city_list=['Karachi', 'Canberra', 'Lahore', 'Delhi']\n",
    "city= ' '\n",
    "while city != 'quit':\n",
    "    city = input(\"Enter the city to check \")\n",
    "    if city in city_list:\n",
    "        print(city + \" is clean city\")\n",
    "    else:\n",
    "        print(\"This polluted city.\")"
   ]
  },
  {
   "cell_type": "markdown",
   "metadata": {},
   "source": []
  },
  {
   "cell_type": "code",
   "execution_count": 3,
   "metadata": {},
   "outputs": [
    {
     "name": "stdout",
     "output_type": "stream",
     "text": [
      "['Chicken', 'BBQ', 'Cheese']\n",
      "Please Enter the Pizza Flavours from  this list.. Type 'quit' to cancel the order.  \n",
      "quit\n"
     ]
    }
   ],
   "source": [
    "#pizza order\n",
    "topping_list=[]\n",
    "pizza_flavour = ['Chicken' , 'BBQ', 'Cheese']\n",
    "pizza_size =  [8, 10, 16]\n",
    "while True:\n",
    "   # pizza_order=input(\"Do you want to add Pizza in your Order (Y/N)\")\n",
    "   # if pizza_order == 'N':\n",
    "   #     break\n",
    "   # else:\n",
    "   #     print(\"Thanks for coming at Pizza hut..\\n\")\n",
    "    print (pizza_flavour)\n",
    "    piz_flav=input(\"Please Enter the Pizza Flavours from  this list.. Type 'quit' to cancel the order.  \\n\")\n",
    "    if piz_flav != 'quit':\n",
    "        if piz_flav in  pizza_flavour:\n",
    "            print(\"\\n Your pizza flavour is added.. \")\n",
    "        else:\n",
    "            print (\"You have entered wrong flavour\\n\")\n",
    "            break\n",
    "    else:\n",
    "        break\n",
    "    size=int(input(\"please enter the size .. INCHES 8\\\" - 10\\\" - 16\\\" .. \"))\n",
    "    if size != 'quit':\n",
    "        if size in pizza_size:\n",
    "            print (\"You have entered correct Pizza Size.\\n\")\n",
    "        else:\n",
    "            print (\"You have entered in-correct Pizza Size.\\n Please try again.\")\n",
    "            break\n",
    "    else:\n",
    "        break\n",
    "    while True:\n",
    "        topping= input(\"Enter your favourite toppings. quit to stop enter topping\\n\")\n",
    "        if topping == 'quit':\n",
    "            break\n",
    "        else:\n",
    "            topping_list.append(topping)\n",
    "            \n",
    "    \n",
    "    print(\"Thank you for completing the order.\\n Your order summary is :\")\n",
    "    print (\"Pizza flavour \", piz_flav)\n",
    "    print (\"Pizza size \", size)\n",
    "    for i in topping_list:\n",
    "        print (\"Pizza toppings\", i)\n",
    "    \n",
    "    print (\"\\n Do you want orde more pizza.[Y/N]\")\n",
    "    \n",
    "    check= input()\n",
    "    if check == 'Y':\n",
    "        continue\n",
    "    else:\n",
    "        break\n",
    "   \n",
    "            "
   ]
  },
  {
   "cell_type": "code",
   "execution_count": 2,
   "metadata": {},
   "outputs": [
    {
     "data": {
      "text/plain": [
       "''"
      ]
     },
     "execution_count": 2,
     "metadata": {},
     "output_type": "execute_result"
    }
   ],
   "source": [
    "\"\""
   ]
  },
  {
   "cell_type": "code",
   "execution_count": null,
   "metadata": {},
   "outputs": [],
   "source": []
  }
 ],
 "metadata": {
  "kernelspec": {
   "display_name": "Python 3",
   "language": "python",
   "name": "python3"
  },
  "language_info": {
   "codemirror_mode": {
    "name": "ipython",
    "version": 3
   },
   "file_extension": ".py",
   "mimetype": "text/x-python",
   "name": "python",
   "nbconvert_exporter": "python",
   "pygments_lexer": "ipython3",
   "version": "3.7.4"
  }
 },
 "nbformat": 4,
 "nbformat_minor": 2
}
