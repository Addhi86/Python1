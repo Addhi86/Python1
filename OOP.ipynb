{
 "cells": [
  {
   "cell_type": "code",
   "execution_count": 6,
   "metadata": {},
   "outputs": [],
   "source": [
    "class Employee:\n",
    "    name = 'Waqas'\n",
    "    designation='Senior Developer'\n",
    "    projectdone = 6\n",
    "    \n",
    "    def hasAchievedTarget(self):\n",
    "        if self.projectdone >= 5:\n",
    "            print(\"He as achieved his montly targets\")\n",
    "        else:\n",
    "            print(\"Target has not been completed\")\n",
    "            \n",
    "        "
   ]
  },
  {
   "cell_type": "code",
   "execution_count": 7,
   "metadata": {},
   "outputs": [
    {
     "data": {
      "text/plain": [
       "'Waqas'"
      ]
     },
     "execution_count": 7,
     "metadata": {},
     "output_type": "execute_result"
    }
   ],
   "source": [
    "employeeone= Employee()\n",
    "employeeone.name"
   ]
  },
  {
   "cell_type": "code",
   "execution_count": 8,
   "metadata": {
    "scrolled": false
   },
   "outputs": [
    {
     "name": "stdout",
     "output_type": "stream",
     "text": [
      "He as achieved his montly targets\n"
     ]
    }
   ],
   "source": [
    "employeeone.hasAchievedTarget()"
   ]
  },
  {
   "cell_type": "code",
   "execution_count": 9,
   "metadata": {},
   "outputs": [],
   "source": [
    "#class Attributes and instance attributes\n",
    "class Employee:\n",
    "    numberofworkinghours=48"
   ]
  },
  {
   "cell_type": "code",
   "execution_count": 10,
   "metadata": {},
   "outputs": [],
   "source": [
    "employeeone= Employee()\n",
    "employeetwo= Employee()"
   ]
  },
  {
   "cell_type": "code",
   "execution_count": 11,
   "metadata": {},
   "outputs": [
    {
     "data": {
      "text/plain": [
       "48"
      ]
     },
     "execution_count": 11,
     "metadata": {},
     "output_type": "execute_result"
    }
   ],
   "source": [
    "employeeone.numberofworkinghours"
   ]
  },
  {
   "cell_type": "code",
   "execution_count": 12,
   "metadata": {},
   "outputs": [
    {
     "data": {
      "text/plain": [
       "48"
      ]
     },
     "execution_count": 12,
     "metadata": {},
     "output_type": "execute_result"
    }
   ],
   "source": [
    "employeetwo.numberofworkinghours\n"
   ]
  },
  {
   "cell_type": "code",
   "execution_count": 13,
   "metadata": {},
   "outputs": [],
   "source": [
    "Employee.numberofworkinghours= 40\n"
   ]
  },
  {
   "cell_type": "code",
   "execution_count": 14,
   "metadata": {},
   "outputs": [
    {
     "data": {
      "text/plain": [
       "40"
      ]
     },
     "execution_count": 14,
     "metadata": {},
     "output_type": "execute_result"
    }
   ],
   "source": [
    "employeeone.numberofworkinghours\n"
   ]
  },
  {
   "cell_type": "code",
   "execution_count": 18,
   "metadata": {},
   "outputs": [
    {
     "data": {
      "text/plain": [
       "90"
      ]
     },
     "execution_count": 18,
     "metadata": {},
     "output_type": "execute_result"
    }
   ],
   "source": [
    "employeeone.numberofworkinghours = 90\n",
    "employeeone.numberofworkinghours\n"
   ]
  },
  {
   "cell_type": "code",
   "execution_count": 19,
   "metadata": {},
   "outputs": [
    {
     "data": {
      "text/plain": [
       "40"
      ]
     },
     "execution_count": 19,
     "metadata": {},
     "output_type": "execute_result"
    }
   ],
   "source": [
    "employeetwo.numberofworkinghours\n"
   ]
  },
  {
   "cell_type": "code",
   "execution_count": 57,
   "metadata": {},
   "outputs": [],
   "source": [
    "#understanding SELF parameter\n",
    "class Employee:\n",
    "    def employeedetail (self):\n",
    "        self.name= 'John'\n",
    "        print(\"Nmae of Employee is \", self.name)\n",
    "        self.age=23\n",
    "        print(\"Age of Employee is \", self.age)\n",
    "    def printemployeedetail(self):\n",
    "        print(\"Employee Detail are : \\n\")\n",
    "        print(\"Name: \", self.name)\n",
    "        print (\"Age: \", self.age)"
   ]
  },
  {
   "cell_type": "code",
   "execution_count": 58,
   "metadata": {},
   "outputs": [
    {
     "name": "stdout",
     "output_type": "stream",
     "text": [
      "Nmae of Employee is  John\n",
      "Age of Employee is  23\n"
     ]
    }
   ],
   "source": [
    "newemployee= Employee()\n",
    "newemployee.employeedetail()"
   ]
  },
  {
   "cell_type": "code",
   "execution_count": 59,
   "metadata": {},
   "outputs": [
    {
     "name": "stdout",
     "output_type": "stream",
     "text": [
      "Employee Detail are : \n",
      "\n",
      "Name:  John\n",
      "Age:  23\n"
     ]
    }
   ],
   "source": [
    "newemployee.printemployeedetail()"
   ]
  },
  {
   "cell_type": "markdown",
   "metadata": {},
   "source": [
    "# Static method and Instance method\n"
   ]
  },
  {
   "cell_type": "code",
   "execution_count": 42,
   "metadata": {},
   "outputs": [],
   "source": [
    "class Employee:\n",
    "    def employeeDetails(self):\n",
    "        self.name=\"Adnan\"\n",
    "    @staticmethod\n",
    "    def wellcomemessage():\n",
    "        print(\"Wellcome to our Organization.\")"
   ]
  },
  {
   "cell_type": "code",
   "execution_count": 43,
   "metadata": {},
   "outputs": [
    {
     "name": "stdout",
     "output_type": "stream",
     "text": [
      "name is  Adnan\n"
     ]
    }
   ],
   "source": [
    "employeeONE=Employee()\n",
    "\n",
    "employeeONE.employeeDetails()\n",
    "print(\"name is \", employeeONE.name)"
   ]
  },
  {
   "cell_type": "code",
   "execution_count": 44,
   "metadata": {},
   "outputs": [
    {
     "name": "stdout",
     "output_type": "stream",
     "text": [
      "Wellcome to our Organization.\n"
     ]
    }
   ],
   "source": [
    "employeeONE.wellcomemessage()"
   ]
  },
  {
   "cell_type": "markdown",
   "metadata": {},
   "source": [
    "# init()method"
   ]
  },
  {
   "cell_type": "code",
   "execution_count": 8,
   "metadata": {},
   "outputs": [],
   "source": [
    "class Boy:\n",
    "    def employeedetail (self):\n",
    "        self.name= 'John'\n",
    "        \n",
    "    def printemployeedetail(self):\n",
    "        print(\"Employee Details are : \\n\")\n",
    "        print(\"Name: \", self.name)\n"
   ]
  },
  {
   "cell_type": "code",
   "execution_count": 9,
   "metadata": {},
   "outputs": [],
   "source": [
    "boy_name=Boy()\n",
    "boy_name.employeedetail()"
   ]
  },
  {
   "cell_type": "code",
   "execution_count": 7,
   "metadata": {},
   "outputs": [
    {
     "name": "stdout",
     "output_type": "stream",
     "text": [
      "Employee Details are : \n",
      "\n",
      "Name:  John\n"
     ]
    }
   ],
   "source": [
    "boy_name.printemployeedetail()"
   ]
  },
  {
   "cell_type": "code",
   "execution_count": 10,
   "metadata": {},
   "outputs": [],
   "source": [
    "class Boy:\n",
    "    def __init__(self,name):\n",
    "        self.name=name\n",
    "    def boydetail(self):\n",
    "        print(\"Name is : \",self.name)"
   ]
  },
  {
   "cell_type": "markdown",
   "metadata": {},
   "source": [
    "# Libaray Management System"
   ]
  },
  {
   "cell_type": "code",
   "execution_count": 11,
   "metadata": {},
   "outputs": [],
   "source": [
    "class Library:\n",
    "    def __init__(self, list_of_books):\n",
    "        self.list_of_books=['ABC', 'DEF', 'OPK', 'WEF']\n",
    "        \n",
    "    def displayBooks(self):\n",
    "        print(\"Available Books in Libaray\")\n",
    "        for i in self.list_of_books:\n",
    "            print(i)\n",
    "    def update_list(self,name):\n",
    "        self.list_of_books.append(name)\n",
    "        \n",
    "\n",
    "class Customer:\n",
    "    \n",
    "    def bookRequest(self):\n",
    "        self.bookName=input(\"Enter the name of the book\")\n",
    "        self.barrowbook = self.bookName\n",
    "        \n",
    "        \n",
    "    def ReturnBook():\n",
    "        lib.update_list(self.bookName) "
   ]
  },
  {
   "cell_type": "code",
   "execution_count": null,
   "metadata": {},
   "outputs": [],
   "source": []
  }
 ],
 "metadata": {
  "kernelspec": {
   "display_name": "Python 3",
   "language": "python",
   "name": "python3"
  },
  "language_info": {
   "codemirror_mode": {
    "name": "ipython",
    "version": 3
   },
   "file_extension": ".py",
   "mimetype": "text/x-python",
   "name": "python",
   "nbconvert_exporter": "python",
   "pygments_lexer": "ipython3",
   "version": "3.7.4"
  }
 },
 "nbformat": 4,
 "nbformat_minor": 2
}
