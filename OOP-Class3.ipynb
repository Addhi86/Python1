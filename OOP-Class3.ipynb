{
 "cells": [
  {
   "cell_type": "markdown",
   "metadata": {},
   "source": [
    "# Polymorphism"
   ]
  },
  {
   "cell_type": "code",
   "execution_count": 24,
   "metadata": {},
   "outputs": [],
   "source": [
    "class Employee:\n",
    "    def setnumberofworkinghours(self):\n",
    "        self.numberofworkinghours=40\n",
    "    def displaynumberofworkinghours(self):\n",
    "        print(self.numberofworkinghours)\n",
    "class Trainee(Employee):\n",
    "    def setnumberofworkinghours(self):\n",
    "        self.numberofworkinghours=45\n",
    "    def resetnumberofworkinghours(self):\n",
    "        super().setnumberofworkinghours()\n",
    "        \n",
    "        "
   ]
  },
  {
   "cell_type": "code",
   "execution_count": 26,
   "metadata": {},
   "outputs": [
    {
     "name": "stdout",
     "output_type": "stream",
     "text": [
      "Number of working hours is  40\n",
      "Number of working hours for trainee is  45\n",
      "i have reset number of working hours 40\n"
     ]
    }
   ],
   "source": [
    "emp=Employee()\n",
    "emp.setnumberofworkinghours()\n",
    "print(\"Number of working hours is \", end = ' ')\n",
    "emp.displaynumberofworkinghours()\n",
    "trainee= Trainee()\n",
    "trainee.setnumberofworkinghours()\n",
    "print(\"Number of working hours for trainee is \", end = ' ' )\n",
    "trainee.displaynumberofworkinghours()\n",
    "trainee.resetnumberofworkinghours()\n",
    "print(\"i have reset number of working hours\", end = ' ')\n",
    "trainee.displaynumberofworkinghours()\n"
   ]
  },
  {
   "cell_type": "markdown",
   "metadata": {},
   "source": [
    "# Diamond Inhertance"
   ]
  },
  {
   "cell_type": "code",
   "execution_count": 38,
   "metadata": {},
   "outputs": [],
   "source": [
    "class A:\n",
    "    def method(self):\n",
    "        print(\"this method belongs to Class A\")\n",
    "class B(A):\n",
    "    def method(self):\n",
    "        print(\"this method belongs to Class B\")\n",
    "class C(A):\n",
    "    def method(self):\n",
    "        print(\"this method belongs to Class C\")\n",
    "class D(B,C):\n",
    "    pass"
   ]
  },
  {
   "cell_type": "code",
   "execution_count": 39,
   "metadata": {},
   "outputs": [
    {
     "name": "stdout",
     "output_type": "stream",
     "text": [
      "this method belongs to Class B\n"
     ]
    }
   ],
   "source": [
    "d= D()\n",
    "d.method()"
   ]
  },
  {
   "cell_type": "code",
   "execution_count": null,
   "metadata": {},
   "outputs": [],
   "source": []
  }
 ],
 "metadata": {
  "kernelspec": {
   "display_name": "Python 3",
   "language": "python",
   "name": "python3"
  },
  "language_info": {
   "codemirror_mode": {
    "name": "ipython",
    "version": 3
   },
   "file_extension": ".py",
   "mimetype": "text/x-python",
   "name": "python",
   "nbconvert_exporter": "python",
   "pygments_lexer": "ipython3",
   "version": "3.7.4"
  }
 },
 "nbformat": 4,
 "nbformat_minor": 2
}
