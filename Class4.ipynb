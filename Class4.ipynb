{
 "cells": [
  {
   "cell_type": "markdown",
   "metadata": {},
   "source": [
    "Class"
   ]
  },
  {
   "cell_type": "code",
   "execution_count": 1,
   "metadata": {},
   "outputs": [
    {
     "name": "stdout",
     "output_type": "stream",
     "text": [
      "{'a': 'b'}\n"
     ]
    }
   ],
   "source": [
    "\n",
    "dict1={'a':'b'} \n",
    "print(dict1)"
   ]
  },
  {
   "cell_type": "code",
   "execution_count": 6,
   "metadata": {},
   "outputs": [
    {
     "name": "stdout",
     "output_type": "stream",
     "text": [
      "Ahmed khan\n",
      "Akbar Mujeed\n",
      "Shah Alam\n"
     ]
    }
   ],
   "source": [
    "name ={'Ahmed':'khan', 'Akbar':'Mujeed','Shah':'Alam'}\n",
    "for i,j in name.items():\n",
    "    print(i,j)"
   ]
  },
  {
   "cell_type": "code",
   "execution_count": 12,
   "metadata": {},
   "outputs": [
    {
     "name": "stdout",
     "output_type": "stream",
     "text": [
      "Shah\n",
      "Alam\n",
      "27\n",
      "Abbottabd\n"
     ]
    }
   ],
   "source": [
    "person={'first_name': 'Shah', 'last_name':'Alam', 'age':'27', 'city': 'Abbottabd'}\n",
    "print(person['first_name'])\n",
    "print(person['last_name'])\n",
    "print(person['age'])\n",
    "print(person['city'])"
   ]
  },
  {
   "cell_type": "code",
   "execution_count": 17,
   "metadata": {},
   "outputs": [
    {
     "name": "stdout",
     "output_type": "stream",
     "text": [
      "The name of pet and owner is  {'Bulldog': 'Khan'}\n",
      "The name of pet and owner is  {'Persion': 'Tahira'}\n"
     ]
    }
   ],
   "source": [
    "#pet\n",
    "dog={'Bulldog':'Khan'}\n",
    "cat={'Persion': 'Tahira'}\n",
    "\n",
    "pets=[dog , cat]\n",
    "\n",
    "for pet in pets:\n",
    "    print('The name of pet and owner is ', pet)"
   ]
  },
  {
   "cell_type": "code",
   "execution_count": 30,
   "metadata": {},
   "outputs": [
    {
     "name": "stdout",
     "output_type": "stream",
     "text": [
      "User Name:  Shah\n",
      "full name:  Shahzad Khan\n",
      "location:  Multan\n",
      "favourite language:  Java\n",
      "\n",
      "\n",
      "\n",
      "User Name:  Jamali\n",
      "full name:  Murtaza Javed\n",
      "location:  Quetta\n",
      "favourite language:  Python\n",
      "\n",
      "\n",
      "\n"
     ]
    }
   ],
   "source": [
    "user={'Shah':{'first_name':'Shahzad', 'last_name':'Khan','location':'Multan', 'Favourite Language': 'Java'} , 'Jamali':{'first_name':'Murtaza', 'last_name':'Javed','location':'Quetta', 'Favourite Language': 'Python'}}\n",
    "for user_names, user_details in user.items():\n",
    "    print('User Name: ',user_names)\n",
    "    full_name = user_details['first_name'] + ' ' + user_details['last_name']\n",
    "    location = user_details['location']\n",
    "    fav_lang= user_details['Favourite Language']\n",
    "    print('full name: ', full_name)\n",
    "    print('location: ', location)\n",
    "    print('favourite language: ',fav_lang)\n",
    "    print ('\\n\\n')"
   ]
  },
  {
   "cell_type": "code",
   "execution_count": 47,
   "metadata": {},
   "outputs": [],
   "source": [
    "#function\n",
    "\n",
    "def full_name(first_name, middle_name, last_name=' '):\n",
    "    if last_name == ' ':\n",
    "        f_name = first_name + ' ' + middle_name\n",
    "        print (\"My name is \", f_name )\n",
    "    else:\n",
    "        f_name = first_name + ' ' + middle_name + ' '+ last_name\n",
    "        print (\"My name is \", f_name )"
   ]
  },
  {
   "cell_type": "code",
   "execution_count": 48,
   "metadata": {},
   "outputs": [
    {
     "name": "stdout",
     "output_type": "stream",
     "text": [
      "My name is  Adnan Farooq\n"
     ]
    }
   ],
   "source": [
    "full_name('Adnan', 'Farooq')"
   ]
  },
  {
   "cell_type": "code",
   "execution_count": 49,
   "metadata": {},
   "outputs": [
    {
     "name": "stdout",
     "output_type": "stream",
     "text": [
      "My name is  Muhammad Shahzad Ahsan\n"
     ]
    }
   ],
   "source": [
    "full_name('Muhammad', 'Shahzad', 'Ahsan')"
   ]
  },
  {
   "cell_type": "code",
   "execution_count": null,
   "metadata": {},
   "outputs": [],
   "source": []
  }
 ],
 "metadata": {
  "kernelspec": {
   "display_name": "Python 3",
   "language": "python",
   "name": "python3"
  },
  "language_info": {
   "codemirror_mode": {
    "name": "ipython",
    "version": 3
   },
   "file_extension": ".py",
   "mimetype": "text/x-python",
   "name": "python",
   "nbconvert_exporter": "python",
   "pygments_lexer": "ipython3",
   "version": "3.7.4"
  }
 },
 "nbformat": 4,
 "nbformat_minor": 2
}
