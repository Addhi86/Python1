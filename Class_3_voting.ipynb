{
 "cells": [
  {
   "cell_type": "code",
   "execution_count": 5,
   "metadata": {},
   "outputs": [
    {
     "name": "stdout",
     "output_type": "stream",
     "text": [
      "Please enter you age:10\n",
      "Sorry! you are under age. You can cast your vote after  8 years.\n"
     ]
    }
   ],
   "source": [
    "#voting \n",
    "\n",
    "age=int(input(\"Please enter you age:\"))\n",
    "\n",
    "if (age >=18):\n",
    "    nid = input(\"Do you have ID card [Y/N]\").upper()\n",
    "    city = input(\"Enter you city name\").upper()\n",
    "    \n",
    "    if nid == 'Y' or city == 'CANBERRA':\n",
    "        print (\"You can go to cast your vote\")\n",
    "        \n",
    "    else: \n",
    "        \n",
    "        print (\"Sorry! You cannot cast your vote\")\n",
    "else:\n",
    "    difference= 18-age\n",
    "    print (\"Sorry! you are under age. You can cast your vote after \", difference,\"years.\")"
   ]
  },
  {
   "cell_type": "code",
   "execution_count": 7,
   "metadata": {},
   "outputs": [
    {
     "name": "stdout",
     "output_type": "stream",
     "text": [
      "Enter your age17\n",
      "Enter your gender [M/F]M\n",
      "Do you have nid [Y/N]Y\n",
      "Enter your city nameSydney\n",
      "Yes, can cast your vote\n"
     ]
    }
   ],
   "source": [
    "age = int(input(\"Enter your age\"))\n",
    "gender = input(\"Enter your gender [M/F]\").upper()\n",
    "nid = input(\"Do you have nid [Y/N]\" ).upper()\n",
    "city =  input(\"Enter your city name\").upper()\n",
    "\n",
    "if (gender == 'M' or age>=18) and (nid == 'Y' or city == 'CANBERRA'):\n",
    "    print (\"Yes, can cast your vote\")\n",
    "else:\n",
    "    print(\"Sorry you can not cast your vote\")\n",
    "    \n"
   ]
  },
  {
   "cell_type": "code",
   "execution_count": null,
   "metadata": {},
   "outputs": [],
   "source": []
  }
 ],
 "metadata": {
  "kernelspec": {
   "display_name": "Python 3",
   "language": "python",
   "name": "python3"
  },
  "language_info": {
   "codemirror_mode": {
    "name": "ipython",
    "version": 3
   },
   "file_extension": ".py",
   "mimetype": "text/x-python",
   "name": "python",
   "nbconvert_exporter": "python",
   "pygments_lexer": "ipython3",
   "version": "3.7.4"
  }
 },
 "nbformat": 4,
 "nbformat_minor": 2
}
