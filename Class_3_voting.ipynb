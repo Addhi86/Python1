{
 "cells": [
  {
   "cell_type": "code",
   "execution_count": 5,
   "metadata": {},
   "outputs": [
    {
     "name": "stdout",
     "output_type": "stream",
     "text": [
      "Please enter you age:10\n",
      "Sorry! you are under age. You can cast your vote after  8 years.\n"
     ]
    }
   ],
   "source": [
    "#voting \n",
    "\n",
    "age=int(input(\"Please enter you age:\"))\n",
    "\n",
    "if (age >=18):\n",
    "    nid = input(\"Do you have ID card [Y/N]\").upper()\n",
    "    city = input(\"Enter you city name\").upper()\n",
    "    \n",
    "    if nid == 'Y' or city == 'CANBERRA':\n",
    "        print (\"You can go to cast your vote\")\n",
    "        \n",
    "    else: \n",
    "        \n",
    "        print (\"Sorry! You cannot cast your vote\")\n",
    "else:\n",
    "    difference= 18-age\n",
    "    print (\"Sorry! you are under age. You can cast your vote after \", difference,\"years.\")"
   ]
  },
  {
   "cell_type": "code",
   "execution_count": 7,
   "metadata": {},
   "outputs": [
    {
     "name": "stdout",
     "output_type": "stream",
     "text": [
      "Enter your age17\n",
      "Enter your gender [M/F]M\n",
      "Do you have nid [Y/N]Y\n",
      "Enter your city nameSydney\n",
      "Yes, can cast your vote\n"
     ]
    }
   ],
   "source": [
    "age = int(input(\"Enter your age\"))\n",
    "gender = input(\"Enter your gender [M/F]\").upper()\n",
    "nid = input(\"Do you have nid [Y/N]\" ).upper()\n",
    "city =  input(\"Enter your city name\").upper()\n",
    "\n",
    "if (gender == 'M' or age>=18) and (nid == 'Y' or city == 'CANBERRA'):\n",
    "    print (\"Yes, can cast your vote\")\n",
    "else:\n",
    "    print(\"Sorry you can not cast your vote\")\n",
    "    \n"
   ]
  },
  {
   "cell_type": "code",
   "execution_count": 16,
   "metadata": {},
   "outputs": [
    {
     "name": "stdout",
     "output_type": "stream",
     "text": [
      "All names are good\n",
      "All names are good\n",
      "All names are good\n",
      "All names are good\n",
      "All names are good\n"
     ]
    }
   ],
   "source": [
    "currentuser_list = [\"Ali\",\"Shahid\",\"Khan\",\"noman\",\"ayesha\"]\n",
    "\n",
    "newuser_list = [\"Kamran\",\"Abid\",\"Ali\",\"Abid\",\"Khan\"]\n",
    "\n",
    "for newlist in newuser_list:\n",
    "    if (newlist.upper() in currentuser_list):\n",
    "        print (\"name already there\")\n",
    "    else:\n",
    "        print (\"All names are good\")\n",
    "    \n"
   ]
  },
  {
   "cell_type": "code",
   "execution_count": 18,
   "metadata": {},
   "outputs": [
    {
     "name": "stdout",
     "output_type": "stream",
     "text": [
      "[0, 1, 2, 3, 4, 5, 6, 7, 8, 9, 10, 11, 12, 13, 14, 15, 16, 17, 18, 19]\n",
      "[0, 2, 4, 6, 8, 10, 12, 14, 16, 18]\n"
     ]
    }
   ],
   "source": [
    "#0-20 divisible by\n",
    "\n",
    "numb_list = list(range(0,20))\n",
    "new_list=[]\n",
    "print(numb_list)\n",
    "for i in numb_list:\n",
    "    if (i%2 == 0):\n",
    "        new_list.append(i)\n",
    "print(new_list)\n"
   ]
  },
  {
   "cell_type": "code",
   "execution_count": 26,
   "metadata": {},
   "outputs": [
    {
     "data": {
      "text/plain": [
       "[7, 14, 21, 28, 35, 42, 49, 56, 63]"
      ]
     },
     "execution_count": 26,
     "metadata": {},
     "output_type": "execute_result"
    }
   ],
   "source": [
    "[i for i in range(1,70) if i%7 == 0]"
   ]
  },
  {
   "cell_type": "code",
   "execution_count": null,
   "metadata": {},
   "outputs": [],
   "source": []
  }
 ],
 "metadata": {
  "kernelspec": {
   "display_name": "Python 3",
   "language": "python",
   "name": "python3"
  },
  "language_info": {
   "codemirror_mode": {
    "name": "ipython",
    "version": 3
   },
   "file_extension": ".py",
   "mimetype": "text/x-python",
   "name": "python",
   "nbconvert_exporter": "python",
   "pygments_lexer": "ipython3",
   "version": "3.7.4"
  }
 },
 "nbformat": 4,
 "nbformat_minor": 2
}
