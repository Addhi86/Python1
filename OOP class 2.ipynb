{
 "cells": [
  {
   "cell_type": "markdown",
   "metadata": {},
   "source": [
    "# Multiple Inheritance"
   ]
  },
  {
   "cell_type": "code",
   "execution_count": 11,
   "metadata": {},
   "outputs": [],
   "source": [
    "class operatingsystem:\n",
    "    multiTask=True\n",
    "    name='MacOS'\n",
    "\n",
    "class Apple:\n",
    "    website=\"www.apple.com\"\n",
    "    name='Steve Jobs'\n",
    "class IphoneX( Apple,operatingsystem):\n",
    "        def __init__(self):\n",
    "            if self.multiTask is True:\n",
    "                print(\"Multi Inharitance program and visit {} for more details\". format(self.website)) #place holder {}\n",
    "                print(\"Name is: \", self.name)\n",
    "                "
   ]
  },
  {
   "cell_type": "code",
   "execution_count": 12,
   "metadata": {},
   "outputs": [
    {
     "name": "stdout",
     "output_type": "stream",
     "text": [
      "Multi Inharitance program and visit www.apple.com for more details\n",
      "Name is:  Steve Jobs\n"
     ]
    }
   ],
   "source": [
    "X=IphoneX()"
   ]
  },
  {
   "cell_type": "markdown",
   "metadata": {},
   "source": [
    "# Multilevel inharitance"
   ]
  },
  {
   "cell_type": "code",
   "execution_count": 17,
   "metadata": {},
   "outputs": [],
   "source": [
    "class musicalInstrument:\n",
    "    numberofKeys=12\n",
    "    \n",
    "class StringInstrument(musicalInstrument):\n",
    "    typeofWood=\"Tonewood\"\n",
    "    \n",
    "class Guitar(StringInstrument):\n",
    "    def __init__(self):\n",
    "        self.playstring=6\n",
    "        print(\"This Guitar consists of  {} keys and its made of {} and it can play {} string\".format(self.numberofKeys,self.typeofWood,self.playstring))"
   ]
  },
  {
   "cell_type": "code",
   "execution_count": 18,
   "metadata": {},
   "outputs": [
    {
     "name": "stdout",
     "output_type": "stream",
     "text": [
      "This Guitar consists of  12 keys and its made of Tonewood and it can play 6 string\n"
     ]
    }
   ],
   "source": [
    "G=Guitar()"
   ]
  },
  {
   "cell_type": "code",
   "execution_count": null,
   "metadata": {},
   "outputs": [],
   "source": []
  }
 ],
 "metadata": {
  "kernelspec": {
   "display_name": "Python 3",
   "language": "python",
   "name": "python3"
  },
  "language_info": {
   "codemirror_mode": {
    "name": "ipython",
    "version": 3
   },
   "file_extension": ".py",
   "mimetype": "text/x-python",
   "name": "python",
   "nbconvert_exporter": "python",
   "pygments_lexer": "ipython3",
   "version": "3.7.4"
  }
 },
 "nbformat": 4,
 "nbformat_minor": 2
}
