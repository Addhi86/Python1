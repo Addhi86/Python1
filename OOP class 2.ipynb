{
 "cells": [
  {
   "cell_type": "markdown",
   "metadata": {},
   "source": [
    "# Multiple Inheritance"
   ]
  },
  {
   "cell_type": "code",
   "execution_count": 9,
   "metadata": {},
   "outputs": [],
   "source": [
    "class operatingsystem:\n",
    "    multiTask=True\n",
    "    name='MacOS'\n",
    "\n",
    "class Apple:\n",
    "    website=\"www.apple.com\"\n",
    "    name='Steve Jobs'\n",
    "class IphoneX(operatingsystem, Apple):\n",
    "        def __init__(self):\n",
    "            if self.multiTask is True:\n",
    "                print(\"Multi Inharitance program and visit {} for more details\". format(self.website)) #place holder {}\n",
    "                print(\"Name is: \", self.name)\n",
    "                "
   ]
  },
  {
   "cell_type": "code",
   "execution_count": 10,
   "metadata": {},
   "outputs": [
    {
     "name": "stdout",
     "output_type": "stream",
     "text": [
      "Multi Inharitance program and visit www.apple.com for more details\n",
      "Name is:  MacOS\n"
     ]
    }
   ],
   "source": [
    "X=IphoneX()"
   ]
  },
  {
   "cell_type": "code",
   "execution_count": null,
   "metadata": {},
   "outputs": [],
   "source": []
  }
 ],
 "metadata": {
  "kernelspec": {
   "display_name": "Python 3",
   "language": "python",
   "name": "python3"
  },
  "language_info": {
   "codemirror_mode": {
    "name": "ipython",
    "version": 3
   },
   "file_extension": ".py",
   "mimetype": "text/x-python",
   "name": "python",
   "nbconvert_exporter": "python",
   "pygments_lexer": "ipython3",
   "version": "3.7.4"
  }
 },
 "nbformat": 4,
 "nbformat_minor": 2
}
