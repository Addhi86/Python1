{
 "cells": [
  {
   "cell_type": "code",
   "execution_count": 7,
   "metadata": {},
   "outputs": [
    {
     "name": "stdout",
     "output_type": "stream",
     "text": [
      "My name is Shahzad Ahsan and my age is 32\n"
     ]
    }
   ],
   "source": [
    "first_name= \"Shahzad\"\n",
    "last_name = \"Ahsan\"\n",
    "age = 32\n",
    "print(\"My name is\" + ' ' + first_name + ' ' +last_name +  \" and my age is \" + str(age) )"
   ]
  },
  {
   "cell_type": "code",
   "execution_count": 8,
   "metadata": {},
   "outputs": [
    {
     "name": "stdout",
     "output_type": "stream",
     "text": [
      "my name is Adnan\n"
     ]
    }
   ],
   "source": [
    "message = 'my name is Adnan'\n",
    "print (message)"
   ]
  },
  {
   "cell_type": "code",
   "execution_count": 10,
   "metadata": {},
   "outputs": [
    {
     "name": "stdout",
     "output_type": "stream",
     "text": [
      "my name is adnan\n",
      "my name is adnan farooq\n"
     ]
    }
   ],
   "source": [
    "message = 'my name is adnan'\n",
    "print (message)\n",
    "message = 'my name is adnan farooq'\n",
    "print (message)\n"
   ]
  },
  {
   "cell_type": "code",
   "execution_count": 11,
   "metadata": {},
   "outputs": [
    {
     "name": "stdout",
     "output_type": "stream",
     "text": [
      "My favourite number is 5\n"
     ]
    }
   ],
   "source": [
    "fav_num = 5\n",
    "message = \"My favourite number is \" + str(fav_num)\n",
    "print (message)"
   ]
  },
  {
   "cell_type": "code",
   "execution_count": null,
   "metadata": {},
   "outputs": [],
   "source": []
  }
 ],
 "metadata": {
  "kernelspec": {
   "display_name": "Python 3",
   "language": "python",
   "name": "python3"
  },
  "language_info": {
   "codemirror_mode": {
    "name": "ipython",
    "version": 3
   },
   "file_extension": ".py",
   "mimetype": "text/x-python",
   "name": "python",
   "nbconvert_exporter": "python",
   "pygments_lexer": "ipython3",
   "version": "3.7.4"
  }
 },
 "nbformat": 4,
 "nbformat_minor": 2
}
