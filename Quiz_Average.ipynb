{
 "cells": [
  {
   "cell_type": "code",
   "execution_count": 6,
   "metadata": {},
   "outputs": [
    {
     "name": "stdout",
     "output_type": "stream",
     "text": [
      "Enter the total number of Quizes: 5\n",
      "Enter the score in quiz 0: 10\n",
      "Enter the score in quiz 1: 7\n",
      "Enter the score in quiz 2: 6.5\n",
      "Enter the score in quiz 3: 9\n",
      "Enter the score in quiz 4: 5\n",
      "The average markes of each quiz is:  7.5\n"
     ]
    }
   ],
   "source": [
    "numberofQuizes = int (input(\"Enter the total number of Quizes: \"))\n",
    "total_marks=0\n",
    "for quizmark in range(numberofQuizes):\n",
    "    score = float(input(\"Enter the score in quiz \" + str(quizmark) + \": \"))\n",
    "    total_marks = total_marks + score\n",
    "    \n",
    "    \n",
    "average_makrs = total_marks/numberofQuizes\n",
    "                            \n",
    "print (\"The average markes of each quiz is: \", average_makrs)"
   ]
  },
  {
   "cell_type": "code",
   "execution_count": null,
   "metadata": {},
   "outputs": [],
   "source": []
  }
 ],
 "metadata": {
  "kernelspec": {
   "display_name": "Python 3",
   "language": "python",
   "name": "python3"
  },
  "language_info": {
   "codemirror_mode": {
    "name": "ipython",
    "version": 3
   },
   "file_extension": ".py",
   "mimetype": "text/x-python",
   "name": "python",
   "nbconvert_exporter": "python",
   "pygments_lexer": "ipython3",
   "version": "3.7.4"
  }
 },
 "nbformat": 4,
 "nbformat_minor": 2
}
