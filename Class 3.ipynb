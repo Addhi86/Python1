{
 "cells": [
  {
   "cell_type": "code",
   "execution_count": 3,
   "metadata": {},
   "outputs": [
    {
     "data": {
      "text/plain": [
       "[3, 6, 11, 18, 27, 38, 51, 66, 83, 102]"
      ]
     },
     "execution_count": 3,
     "metadata": {},
     "output_type": "execute_result"
    }
   ],
   "source": [
    "[value **2+2 for value in range (1,11)]"
   ]
  },
  {
   "cell_type": "code",
   "execution_count": 10,
   "metadata": {},
   "outputs": [
    {
     "name": "stdout",
     "output_type": "stream",
     "text": [
      "My favourite food list: \n",
      "\n",
      "['Chicken', 'Tikkah', 'Malai Botti', 'Biryani']\n",
      "\n",
      "\n",
      "\n",
      "My friend's favourite food list: \n",
      "\n",
      "['Chicken', 'Tikkah', 'Malai Botti', 'Fish']\n"
     ]
    }
   ],
   "source": [
    "myfood_list = [\"Chicken\", \"Tikkah\", \"Malai Botti\" ]\n",
    "frientfood_list = myfood_list[:]\n",
    "myfood_list.append(\"Biryani\")\n",
    "frientfood_list.append(\"Fish\")\n",
    "print (\"My favourite food list: \\n\")\n",
    "print (myfood_list)\n",
    "print (\"\\n\\n\")\n",
    "print (\"My friend's favourite food list: \\n\")\n",
    "print (frientfood_list)"
   ]
  },
  {
   "cell_type": "code",
   "execution_count": null,
   "metadata": {},
   "outputs": [],
   "source": []
  }
 ],
 "metadata": {
  "kernelspec": {
   "display_name": "Python 3",
   "language": "python",
   "name": "python3"
  },
  "language_info": {
   "codemirror_mode": {
    "name": "ipython",
    "version": 3
   },
   "file_extension": ".py",
   "mimetype": "text/x-python",
   "name": "python",
   "nbconvert_exporter": "python",
   "pygments_lexer": "ipython3",
   "version": "3.7.4"
  }
 },
 "nbformat": 4,
 "nbformat_minor": 2
}
