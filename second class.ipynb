{
 "cells": [
  {
   "cell_type": "code",
   "execution_count": 3,
   "metadata": {},
   "outputs": [
    {
     "name": "stdout",
     "output_type": "stream",
     "text": [
      "['8:30  wake up', 'Egg boil', 'Gym', 'Breakfast', '10:00 Office', '7:30PM home', 'Marraige']\n"
     ]
    }
   ],
   "source": [
    "Todo= [\"8:30  wake up\", \"Egg boil\", \"Gym\", \"Shower\", \"10:00 Office\"]\n",
    "Todo[3] = \"Breakfast\"\n",
    "Todo.append(\"7:30PM home\")\n",
    "Todo.append(\"Marraige\")\n",
    "print(Todo)"
   ]
  },
  {
   "cell_type": "code",
   "execution_count": 15,
   "metadata": {},
   "outputs": [
    {
     "name": "stdout",
     "output_type": "stream",
     "text": [
      "Yasir, You are Invited for Dinner on 31th January.\n",
      "\n",
      "Shoaib, You are Invited for Dinner on 31th January.\n",
      "\n",
      "Hamid, You are Invited for Dinner on 31th January.\n",
      "\n",
      "Dear Yasir,Shoaib,Hamid, \n",
      "\n",
      " \t I found a Bigger table to add one more guest.\n",
      " Thanks\n",
      "\n",
      "\n",
      "\n",
      "Kamran, You are Invited for Dinner on 31th January.\n",
      "\n",
      "Yasir, You are Invited for Dinner on 31th January.\n",
      "\n",
      "Shahid, You are Invited for Dinner on 31th January.\n",
      "\n",
      "Shoaib, You are Invited for Dinner on 31th January.\n",
      "\n",
      "Hamid, You are Invited for Dinner on 31th January.\n",
      "\n",
      "Raza, You are Invited for Dinner on 31th January.\n",
      "\n",
      "Thank you\n"
     ]
    }
   ],
   "source": [
    "Invitation = [\"Yasir\",  \"Shoaib\", \"Hamid\"]\n",
    "print(Invitation [0] + \", You are Invited for Dinner on 31th January.\\n\")\n",
    "print(Invitation [1] + \", You are Invited for Dinner on 31th January.\\n\")\n",
    "print(Invitation [2] + \", You are Invited for Dinner on 31th January.\\n\")\n",
    "\n",
    "print(\"Dear \" + Invitation [0] + \",\" + Invitation [1] + \",\" + Invitation [2] + \",\"+ \" \\n\\n \\t I found a Bigger table to add one more guest.\\n Thanks\\n\\n\\n\")\n",
    "\n",
    "Invitation.insert (0, \"Kamran\")\n",
    "Invitation.insert (2, \"Shahid\")\n",
    "\n",
    "Invitation.append (\"Raza\")\n",
    "for invitation_name in Invitation:\n",
    "    print(invitation_name + \", You are Invited for Dinner on 31th January.\\n\")\n",
    "print (\"Thank you\")"
   ]
  },
  {
   "cell_type": "code",
   "execution_count": 21,
   "metadata": {},
   "outputs": [
    {
     "name": "stdout",
     "output_type": "stream",
     "text": [
      "BarBQ\n",
      "Cheese\n",
      "Grilled Chicken\n",
      "I love BarBQ.\n",
      "I love Cheese.\n",
      "I love Grilled Chicken.\n",
      "I always love to eat my favourite  pizza's whenever I go outside.\n"
     ]
    }
   ],
   "source": [
    "Pizza_list = [\"BarBQ\",  \"Cheese\", \"Grilled Chicken\"]\n",
    "\n",
    "for pizza in Pizza_list:\n",
    "    print(pizza)\n",
    "\n",
    "for pizza in Pizza_list:\n",
    "    print(\"I love \"  + pizza + \".\")\n",
    "    \n",
    "    \n",
    "    \n",
    "print(\"I always love to eat my favourite  pizza's whenever I go outside.\")\n"
   ]
  },
  {
   "cell_type": "code",
   "execution_count": 22,
   "metadata": {},
   "outputs": [
    {
     "name": "stdout",
     "output_type": "stream",
     "text": [
      "I love r.\n",
      "I love e.\n",
      "I love i.\n"
     ]
    }
   ],
   "source": [
    "Pizza_list = [\"BarBQ\",  \"Cheese\", \"Grilled Chicken\"]\n",
    "\n",
    "for pizza in Pizza_list:\n",
    "    print(\"I love \"  + pizza[2] + \".\")"
   ]
  },
  {
   "cell_type": "code",
   "execution_count": 28,
   "metadata": {},
   "outputs": [
    {
     "name": "stdout",
     "output_type": "stream",
     "text": [
      "[0, 1, 4, 9, 16]\n"
     ]
    }
   ],
   "source": [
    "numb=[]\n",
    "for element in range (0,5):\n",
    "    ele_square = element**2\n",
    "    numb.append (ele_square)\n",
    "\n",
    "    \n",
    "print(numb)\n"
   ]
  },
  {
   "cell_type": "code",
   "execution_count": null,
   "metadata": {},
   "outputs": [],
   "source": []
  }
 ],
 "metadata": {
  "kernelspec": {
   "display_name": "Python 3",
   "language": "python",
   "name": "python3"
  },
  "language_info": {
   "codemirror_mode": {
    "name": "ipython",
    "version": 3
   },
   "file_extension": ".py",
   "mimetype": "text/x-python",
   "name": "python",
   "nbconvert_exporter": "python",
   "pygments_lexer": "ipython3",
   "version": "3.7.4"
  }
 },
 "nbformat": 4,
 "nbformat_minor": 2
}
