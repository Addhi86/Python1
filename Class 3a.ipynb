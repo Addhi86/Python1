{
 "cells": [
  {
   "cell_type": "code",
   "execution_count": 3,
   "metadata": {},
   "outputs": [
    {
     "data": {
      "text/plain": [
       "[3, 6, 11, 18, 27, 38, 51, 66, 83, 102]"
      ]
     },
     "execution_count": 3,
     "metadata": {},
     "output_type": "execute_result"
    }
   ],
   "source": [
    "[value **2+2 for value in range (1,11)]"
   ]
  },
  {
   "cell_type": "code",
   "execution_count": 10,
   "metadata": {},
   "outputs": [
    {
     "name": "stdout",
     "output_type": "stream",
     "text": [
      "My favourite food list: \n",
      "\n",
      "['Chicken', 'Tikkah', 'Malai Botti', 'Biryani']\n",
      "\n",
      "\n",
      "\n",
      "My friend's favourite food list: \n",
      "\n",
      "['Chicken', 'Tikkah', 'Malai Botti', 'Fish']\n"
     ]
    }
   ],
   "source": [
    "myfood_list = [\"Chicken\", \"Tikkah\", \"Malai Botti\" ]\n",
    "frientfood_list = myfood_list[:]\n",
    "myfood_list.append(\"Biryani\")\n",
    "frientfood_list.append(\"Fish\")\n",
    "print (\"My favourite food list: \\n\")\n",
    "print (myfood_list)\n",
    "print (\"\\n\\n\")\n",
    "print (\"My friend's favourite food list: \\n\")\n",
    "print (frientfood_list)"
   ]
  },
  {
   "cell_type": "code",
   "execution_count": 20,
   "metadata": {},
   "outputs": [
    {
     "name": "stdout",
     "output_type": "stream",
     "text": [
      "First three dishes in the list are \n",
      "Chicken\n",
      "Pizza\n",
      "Mutton Karahi\n",
      "\n",
      "\n",
      "Middle three dishes in the list are \n",
      "Grilled Burger\n",
      "Nihari\n",
      "Chicken Biryani\n",
      "\n",
      "\n",
      "Last three dishes in the list are \n",
      "Mutton Pulao\n",
      "Daal Makni\n",
      "Halwa\n"
     ]
    }
   ],
   "source": [
    "# Print first middle and last in list\n",
    "\n",
    "myfood_items = [\"Chicken\", \"Pizza\", \"Mutton Karahi\", \"Grilled Burger\", \"Nihari\", \"Chicken Biryani\",\"Mutton Pulao\", \"Daal Makni\", \"Halwa\"]\n",
    "\n",
    "print(\"First three dishes in the list are \")\n",
    "for first in myfood_items[:3]:\n",
    "    print(first)\n",
    "print(\"\\n\\nMiddle three dishes in the list are \")\n",
    "\n",
    "for middle in myfood_items[3:6]:\n",
    "    print(middle)\n",
    "print(\"\\n\\nLast three dishes in the list are \")\n",
    "\n",
    "for last in myfood_items[6:]:\n",
    "    print(last)\n",
    "    "
   ]
  },
  {
   "cell_type": "code",
   "execution_count": 1,
   "metadata": {},
   "outputs": [
    {
     "name": "stdout",
     "output_type": "stream",
     "text": [
      "Enter the marks of English Subject:89\n",
      "Enter the marks of Mathematics Subject:76\n",
      "Enter the marks of Urdu Subject:56.9\n",
      "Enter the marks of Islamiat Subject:87\n",
      "Enter the marks of Physics Subject:65.5\n",
      "\n",
      "\n",
      "Marks Obtained by the student is  374.4\n",
      "\n",
      "\n",
      "Percentage Obtained by the student is  74.88 %\n",
      "\n",
      "\n",
      "Grade C\n"
     ]
    }
   ],
   "source": [
    "#percentage total marks and grade\n",
    "\n",
    "English_marks = float(input(\"Enter the marks of English Subject:\"))\n",
    "Math_marks = float(input(\"Enter the marks of Mathematics Subject:\"))\n",
    "Urdu_marks = float(input(\"Enter the marks of Urdu Subject:\"))\n",
    "Isl_marks = float(input(\"Enter the marks of Islamiat Subject:\"))\n",
    "Phy_marks = float(input(\"Enter the marks of Physics Subject:\"))\n",
    "Obtain_marks = English_marks + Math_marks + Urdu_marks +Isl_marks + Phy_marks \n",
    "\n",
    "Total_marks = Obtain_marks / 500\n",
    "\n",
    "Percentage = Total_marks * 100\n",
    "print (\"\\n\\nMarks Obtained by the student is \", Obtain_marks)\n",
    "print (\"\\n\\nPercentage Obtained by the student is \", Percentage,\"%\\n\\n\")\n",
    "\n",
    "if (Percentage> 90):\n",
    "    print(\"Grade A\")\n",
    "elif (Percentage >= 80):\n",
    "    print(\"Grade B\")\n",
    "elif (Percentage >= 70):\n",
    "    print(\"Grade C\")\n",
    "elif (Percentage >= 60):\n",
    "    print(\"Grade D\")\n",
    "elif (Percentage >= 50):\n",
    "    print(\"Grade E\")\n",
    "else:\n",
    "    print(\"Sorry! you are Fail\")"
   ]
  },
  {
   "cell_type": "code",
   "execution_count": null,
   "metadata": {},
   "outputs": [],
   "source": []
  }
 ],
 "metadata": {
  "kernelspec": {
   "display_name": "Python 3",
   "language": "python",
   "name": "python3"
  },
  "language_info": {
   "codemirror_mode": {
    "name": "ipython",
    "version": 3
   },
   "file_extension": ".py",
   "mimetype": "text/x-python",
   "name": "python",
   "nbconvert_exporter": "python",
   "pygments_lexer": "ipython3",
   "version": "3.7.4"
  }
 },
 "nbformat": 4,
 "nbformat_minor": 2
}
