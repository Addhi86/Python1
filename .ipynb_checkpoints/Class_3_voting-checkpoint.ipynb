{
 "cells": [
  {
   "cell_type": "code",
   "execution_count": null,
   "metadata": {},
   "outputs": [],
   "source": [
    "#voting \n",
    "\n",
    "age=int(input(\"Please enter you age:\"))\n",
    "\n",
    "if (age >=18):\n",
    "    nid = input(\"Do you have ID card [Y/N]\").upper()\n",
    "    city = input(\"Enter you city name\").upper()\n",
    "    \n",
    "    if nid == 'Y' and city == 'CANBERRA':\n",
    "        print (\"You can go to cast your vote\")\n",
    "        \n",
    "    "
   ]
  }
 ],
 "metadata": {
  "kernelspec": {
   "display_name": "Python 3",
   "language": "python",
   "name": "python3"
  },
  "language_info": {
   "codemirror_mode": {
    "name": "ipython",
    "version": 3
   },
   "file_extension": ".py",
   "mimetype": "text/x-python",
   "name": "python",
   "nbconvert_exporter": "python",
   "pygments_lexer": "ipython3",
   "version": "3.7.4"
  }
 },
 "nbformat": 4,
 "nbformat_minor": 2
}
